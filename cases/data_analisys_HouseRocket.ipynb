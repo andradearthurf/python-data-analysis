{
 "cells": [
  {
   "cell_type": "markdown",
   "metadata": {},
   "source": [
    "# Análise de Dados para a empresa House Rocket."
   ]
  },
  {
   "cell_type": "markdown",
   "metadata": {},
   "source": [
    "### A House Rocket é uma plataforma digital que tem como modelo de negócio, a compra e a venda de imóveis usando tecnologia."
   ]
  },
  {
   "cell_type": "markdown",
   "metadata": {},
   "source": [
    "## Quais questões esperam ser respondidas a partir dessa análise? \n",
    "* Quantas casas tem nenhum, um ou mais de um quarto?\n",
    "* Quantas casas tem um ou mais de um andar?\n",
    "* Quantas casas estão em perfeitas ou em péssimas condições?\n",
    "* Quantos quartos, em média, as casas possuem?\n",
    "* Qual o preço médio das casas?\n",
    "* Qual o desvio padrão do preço?\n",
    "* Quais são os 1Q e 3Q dos preços?\n",
    "* Existem preços de casas que são outliers?\n",
    "* Qual a relação entre o preço médio das casas e a quantidade de quartos?\n",
    "* Qual foi o crescimento do preço dos imóveis ano após ano?\n",
    "* Qual foi o crescimento do preço dos imóveis mês após mês?"
   ]
  },
  {
   "cell_type": "markdown",
   "metadata": {},
   "source": [
    "## 0.0 Importando as bibliotecas:"
   ]
  },
  {
   "cell_type": "code",
   "execution_count": 1,
   "metadata": {},
   "outputs": [],
   "source": [
    "import pandas as pd\n",
    "import matplotlib.pyplot as plt\n",
    "import numpy as np\n",
    "import seaborn as sns"
   ]
  },
  {
   "cell_type": "markdown",
   "metadata": {},
   "source": [
    "## 1.0 Dados"
   ]
  },
  {
   "cell_type": "markdown",
   "metadata": {},
   "source": [
    "### 1.1 Importando o dataframe:"
   ]
  },
  {
   "cell_type": "code",
   "execution_count": 2,
   "metadata": {},
   "outputs": [],
   "source": [
    "dataFrame = pd.read_csv(\"../data/kc_house_data.csv\")"
   ]
  },
  {
   "cell_type": "markdown",
   "metadata": {},
   "source": [
    "### 1.1 Mostrando parte do dataframe:"
   ]
  },
  {
   "cell_type": "code",
   "execution_count": 3,
   "metadata": {},
   "outputs": [
    {
     "data": {
      "text/html": [
       "<div>\n",
       "<style scoped>\n",
       "    .dataframe tbody tr th:only-of-type {\n",
       "        vertical-align: middle;\n",
       "    }\n",
       "\n",
       "    .dataframe tbody tr th {\n",
       "        vertical-align: top;\n",
       "    }\n",
       "\n",
       "    .dataframe thead th {\n",
       "        text-align: right;\n",
       "    }\n",
       "</style>\n",
       "<table border=\"1\" class=\"dataframe\">\n",
       "  <thead>\n",
       "    <tr style=\"text-align: right;\">\n",
       "      <th></th>\n",
       "      <th>id</th>\n",
       "      <th>date</th>\n",
       "      <th>price</th>\n",
       "      <th>bedrooms</th>\n",
       "      <th>bathrooms</th>\n",
       "      <th>sqft_living</th>\n",
       "      <th>sqft_lot</th>\n",
       "      <th>floors</th>\n",
       "      <th>waterfront</th>\n",
       "      <th>view</th>\n",
       "      <th>...</th>\n",
       "      <th>grade</th>\n",
       "      <th>sqft_above</th>\n",
       "      <th>sqft_basement</th>\n",
       "      <th>yr_built</th>\n",
       "      <th>yr_renovated</th>\n",
       "      <th>zipcode</th>\n",
       "      <th>lat</th>\n",
       "      <th>long</th>\n",
       "      <th>sqft_living15</th>\n",
       "      <th>sqft_lot15</th>\n",
       "    </tr>\n",
       "  </thead>\n",
       "  <tbody>\n",
       "    <tr>\n",
       "      <th>0</th>\n",
       "      <td>7129300520</td>\n",
       "      <td>20141013T000000</td>\n",
       "      <td>221900.0</td>\n",
       "      <td>3</td>\n",
       "      <td>1.00</td>\n",
       "      <td>1180</td>\n",
       "      <td>5650</td>\n",
       "      <td>1.0</td>\n",
       "      <td>0</td>\n",
       "      <td>0</td>\n",
       "      <td>...</td>\n",
       "      <td>7</td>\n",
       "      <td>1180</td>\n",
       "      <td>0</td>\n",
       "      <td>1955</td>\n",
       "      <td>0</td>\n",
       "      <td>98178</td>\n",
       "      <td>47.5112</td>\n",
       "      <td>-122.257</td>\n",
       "      <td>1340</td>\n",
       "      <td>5650</td>\n",
       "    </tr>\n",
       "    <tr>\n",
       "      <th>1</th>\n",
       "      <td>6414100192</td>\n",
       "      <td>20141209T000000</td>\n",
       "      <td>538000.0</td>\n",
       "      <td>3</td>\n",
       "      <td>2.25</td>\n",
       "      <td>2570</td>\n",
       "      <td>7242</td>\n",
       "      <td>2.0</td>\n",
       "      <td>0</td>\n",
       "      <td>0</td>\n",
       "      <td>...</td>\n",
       "      <td>7</td>\n",
       "      <td>2170</td>\n",
       "      <td>400</td>\n",
       "      <td>1951</td>\n",
       "      <td>1991</td>\n",
       "      <td>98125</td>\n",
       "      <td>47.7210</td>\n",
       "      <td>-122.319</td>\n",
       "      <td>1690</td>\n",
       "      <td>7639</td>\n",
       "    </tr>\n",
       "    <tr>\n",
       "      <th>2</th>\n",
       "      <td>5631500400</td>\n",
       "      <td>20150225T000000</td>\n",
       "      <td>180000.0</td>\n",
       "      <td>2</td>\n",
       "      <td>1.00</td>\n",
       "      <td>770</td>\n",
       "      <td>10000</td>\n",
       "      <td>1.0</td>\n",
       "      <td>0</td>\n",
       "      <td>0</td>\n",
       "      <td>...</td>\n",
       "      <td>6</td>\n",
       "      <td>770</td>\n",
       "      <td>0</td>\n",
       "      <td>1933</td>\n",
       "      <td>0</td>\n",
       "      <td>98028</td>\n",
       "      <td>47.7379</td>\n",
       "      <td>-122.233</td>\n",
       "      <td>2720</td>\n",
       "      <td>8062</td>\n",
       "    </tr>\n",
       "    <tr>\n",
       "      <th>3</th>\n",
       "      <td>2487200875</td>\n",
       "      <td>20141209T000000</td>\n",
       "      <td>604000.0</td>\n",
       "      <td>4</td>\n",
       "      <td>3.00</td>\n",
       "      <td>1960</td>\n",
       "      <td>5000</td>\n",
       "      <td>1.0</td>\n",
       "      <td>0</td>\n",
       "      <td>0</td>\n",
       "      <td>...</td>\n",
       "      <td>7</td>\n",
       "      <td>1050</td>\n",
       "      <td>910</td>\n",
       "      <td>1965</td>\n",
       "      <td>0</td>\n",
       "      <td>98136</td>\n",
       "      <td>47.5208</td>\n",
       "      <td>-122.393</td>\n",
       "      <td>1360</td>\n",
       "      <td>5000</td>\n",
       "    </tr>\n",
       "    <tr>\n",
       "      <th>4</th>\n",
       "      <td>1954400510</td>\n",
       "      <td>20150218T000000</td>\n",
       "      <td>510000.0</td>\n",
       "      <td>3</td>\n",
       "      <td>2.00</td>\n",
       "      <td>1680</td>\n",
       "      <td>8080</td>\n",
       "      <td>1.0</td>\n",
       "      <td>0</td>\n",
       "      <td>0</td>\n",
       "      <td>...</td>\n",
       "      <td>8</td>\n",
       "      <td>1680</td>\n",
       "      <td>0</td>\n",
       "      <td>1987</td>\n",
       "      <td>0</td>\n",
       "      <td>98074</td>\n",
       "      <td>47.6168</td>\n",
       "      <td>-122.045</td>\n",
       "      <td>1800</td>\n",
       "      <td>7503</td>\n",
       "    </tr>\n",
       "  </tbody>\n",
       "</table>\n",
       "<p>5 rows × 21 columns</p>\n",
       "</div>"
      ],
      "text/plain": [
       "           id             date     price  bedrooms  bathrooms  sqft_living  \\\n",
       "0  7129300520  20141013T000000  221900.0         3       1.00         1180   \n",
       "1  6414100192  20141209T000000  538000.0         3       2.25         2570   \n",
       "2  5631500400  20150225T000000  180000.0         2       1.00          770   \n",
       "3  2487200875  20141209T000000  604000.0         4       3.00         1960   \n",
       "4  1954400510  20150218T000000  510000.0         3       2.00         1680   \n",
       "\n",
       "   sqft_lot  floors  waterfront  view  ...  grade  sqft_above  sqft_basement  \\\n",
       "0      5650     1.0           0     0  ...      7        1180              0   \n",
       "1      7242     2.0           0     0  ...      7        2170            400   \n",
       "2     10000     1.0           0     0  ...      6         770              0   \n",
       "3      5000     1.0           0     0  ...      7        1050            910   \n",
       "4      8080     1.0           0     0  ...      8        1680              0   \n",
       "\n",
       "   yr_built  yr_renovated  zipcode      lat     long  sqft_living15  \\\n",
       "0      1955             0    98178  47.5112 -122.257           1340   \n",
       "1      1951          1991    98125  47.7210 -122.319           1690   \n",
       "2      1933             0    98028  47.7379 -122.233           2720   \n",
       "3      1965             0    98136  47.5208 -122.393           1360   \n",
       "4      1987             0    98074  47.6168 -122.045           1800   \n",
       "\n",
       "   sqft_lot15  \n",
       "0        5650  \n",
       "1        7639  \n",
       "2        8062  \n",
       "3        5000  \n",
       "4        7503  \n",
       "\n",
       "[5 rows x 21 columns]"
      ]
     },
     "execution_count": 3,
     "metadata": {},
     "output_type": "execute_result"
    }
   ],
   "source": [
    "dataFrame.head()"
   ]
  },
  {
   "cell_type": "markdown",
   "metadata": {},
   "source": [
    "### 1.2 Dimensão dos dados:"
   ]
  },
  {
   "cell_type": "code",
   "execution_count": 4,
   "metadata": {},
   "outputs": [
    {
     "name": "stdout",
     "output_type": "stream",
     "text": [
      "Número de linhas: 21613\n",
      "Número de colunas: 21\n"
     ]
    }
   ],
   "source": [
    "print(\"Número de linhas: {}\".format(dataFrame.shape[0]))\n",
    "print(\"Número de colunas: {}\".format(dataFrame.shape[1]))"
   ]
  },
  {
   "cell_type": "markdown",
   "metadata": {},
   "source": [
    "### 1.3 Tipo de variáveis:"
   ]
  },
  {
   "cell_type": "code",
   "execution_count": 5,
   "metadata": {},
   "outputs": [
    {
     "data": {
      "text/plain": [
       "id                 int64\n",
       "date              object\n",
       "price            float64\n",
       "bedrooms           int64\n",
       "bathrooms        float64\n",
       "sqft_living        int64\n",
       "sqft_lot           int64\n",
       "floors           float64\n",
       "waterfront         int64\n",
       "view               int64\n",
       "condition          int64\n",
       "grade              int64\n",
       "sqft_above         int64\n",
       "sqft_basement      int64\n",
       "yr_built           int64\n",
       "yr_renovated       int64\n",
       "zipcode            int64\n",
       "lat              float64\n",
       "long             float64\n",
       "sqft_living15      int64\n",
       "sqft_lot15         int64\n",
       "dtype: object"
      ]
     },
     "execution_count": 5,
     "metadata": {},
     "output_type": "execute_result"
    }
   ],
   "source": [
    "dataFrame.dtypes"
   ]
  },
  {
   "cell_type": "markdown",
   "metadata": {},
   "source": [
    "### 1.4 Alterando alguns tipos de variáveis:"
   ]
  },
  {
   "cell_type": "code",
   "execution_count": 6,
   "metadata": {},
   "outputs": [],
   "source": [
    "dataFrame['date'] = pd.to_datetime(dataFrame['date']) "
   ]
  },
  {
   "cell_type": "markdown",
   "metadata": {},
   "source": [
    "### 1.5 Criando alguns recursos extras para o dataframe:"
   ]
  },
  {
   "cell_type": "code",
   "execution_count": 7,
   "metadata": {},
   "outputs": [],
   "source": [
    "dataFrame['mes'] = dataFrame['date'].dt.month\n",
    "dataFrame['ano'] = dataFrame['date'].dt.year"
   ]
  },
  {
   "cell_type": "markdown",
   "metadata": {},
   "source": [
    "### 1.6 Estatística geral dos dados:"
   ]
  },
  {
   "cell_type": "code",
   "execution_count": 8,
   "metadata": {},
   "outputs": [],
   "source": [
    "# Incluindo apenas as variáveis numéricas:\n",
    "var_num = dataFrame.select_dtypes(include=['int64', 'float64'])\n",
    "\n",
    "# Deletando a coluna 'id', pois não é numérica:\n",
    "var_num = var_num.iloc[:, 1: ]"
   ]
  },
  {
   "cell_type": "code",
   "execution_count": 9,
   "metadata": {},
   "outputs": [
    {
     "name": "stdout",
     "output_type": "stream",
     "text": [
      "              var           mean       median            std         min  \\\n",
      "0           price  540088.141767  450000.0000  367118.703181  75000.0000   \n",
      "1        bedrooms       3.370842       3.0000       0.930040      0.0000   \n",
      "2       bathrooms       2.114757       2.2500       0.770145      0.0000   \n",
      "3     sqft_living    2079.899736    1910.0000     918.419649    290.0000   \n",
      "4        sqft_lot   15106.967566    7618.0000   41419.553273    520.0000   \n",
      "5          floors       1.494309       1.5000       0.539976      1.0000   \n",
      "6      waterfront       0.007542       0.0000       0.086515      0.0000   \n",
      "7            view       0.234303       0.0000       0.766300      0.0000   \n",
      "8       condition       3.409430       3.0000       0.650728      1.0000   \n",
      "9           grade       7.656873       7.0000       1.175432      1.0000   \n",
      "10     sqft_above    1788.390691    1560.0000     828.071820    290.0000   \n",
      "11  sqft_basement     291.509045       0.0000     442.564804      0.0000   \n",
      "12       yr_built    1971.005136    1975.0000      29.372731   1900.0000   \n",
      "13   yr_renovated      84.402258       0.0000     401.669947      0.0000   \n",
      "14        zipcode   98077.939805   98065.0000      53.503788  98001.0000   \n",
      "15            lat      47.560053      47.5718       0.138561     47.1559   \n",
      "16           long    -122.213896    -122.2300       0.140825   -122.5190   \n",
      "17  sqft_living15    1986.552492    1840.0000     685.375448    399.0000   \n",
      "18     sqft_lot15   12768.455652    7620.0000   27303.547963    651.0000   \n",
      "19            mes       6.574423       6.0000       3.115236      1.0000   \n",
      "20            ano    2014.322954    2014.0000       0.467605   2014.0000   \n",
      "\n",
      "             max  \n",
      "0   7.700000e+06  \n",
      "1   3.300000e+01  \n",
      "2   8.000000e+00  \n",
      "3   1.354000e+04  \n",
      "4   1.651359e+06  \n",
      "5   3.500000e+00  \n",
      "6   1.000000e+00  \n",
      "7   4.000000e+00  \n",
      "8   5.000000e+00  \n",
      "9   1.300000e+01  \n",
      "10  9.410000e+03  \n",
      "11  4.820000e+03  \n",
      "12  2.015000e+03  \n",
      "13  2.015000e+03  \n",
      "14  9.819900e+04  \n",
      "15  4.777760e+01  \n",
      "16 -1.213150e+02  \n",
      "17  6.210000e+03  \n",
      "18  8.712000e+05  \n",
      "19  1.200000e+01  \n",
      "20  2.015000e+03  \n"
     ]
    },
    {
     "data": {
      "image/png": "[encoded data removed]",
      "text/plain": [
       "<Figure size 432x288 with 6 Axes>"
      ]
     },
     "metadata": {
      "needs_background": "light"
     },
     "output_type": "display_data"
    }
   ],
   "source": [
    "# Média e mediana:\n",
    "mean = pd.DataFrame(var_num.apply(np.mean)).T\n",
    "median = pd.DataFrame(var_num.apply(np.median)).T\n",
    "\n",
    "# Dispersão:\n",
    "std = pd.DataFrame(var_num.apply(np.std)).T\n",
    "min = pd.DataFrame(var_num.apply(np.min)).T\n",
    "max = pd.DataFrame(var_num.apply(np.max)).T\n",
    "\n",
    "# Concatenando as variáveis, a fim de gerar a tabela:\n",
    "tab = pd.concat([mean, median, std, min, max]).T.reset_index()\n",
    "\n",
    "tab.columns = ['var', 'mean', 'median', 'std', 'min', 'max']\n",
    "print(tab)\n",
    "tab.hist();"
   ]
  },
  {
   "cell_type": "markdown",
   "metadata": {},
   "source": [
    "### 1.7 Correlação dos dados"
   ]
  },
  {
   "cell_type": "code",
   "execution_count": 10,
   "metadata": {},
   "outputs": [
    {
     "data": {
      "image/png": "[encoded data removed]",
      "text/plain": [
       "<Figure size 432x288 with 2 Axes>"
      ]
     },
     "metadata": {
      "needs_background": "light"
     },
     "output_type": "display_data"
    }
   ],
   "source": [
    "c = dataFrame.corr()\n",
    "m = np.triu(c)\n",
    "sns.heatmap(c, cmap='OrRd', square=True, annot=False, center=0, mask=m);"
   ]
  },
  {
   "cell_type": "markdown",
   "metadata": {},
   "source": [
    "## 2.0 Respondendo as questões"
   ]
  },
  {
   "cell_type": "markdown",
   "metadata": {},
   "source": [
    "### 2.1 **Quantas casas tem nenhum, um ou mais de um quarto?**"
   ]
  },
  {
   "cell_type": "markdown",
   "metadata": {},
   "source": [
    "#### 2.1.1 Filtrando as casas com um e nenhum quarto:"
   ]
  },
  {
   "cell_type": "code",
   "execution_count": 11,
   "metadata": {},
   "outputs": [],
   "source": [
    "house_with_none_bedrooms = dataFrame.query('bedrooms == 0').__len__()\n",
    "house_with_one_bedrooms = dataFrame.query('bedrooms == 1').__len__()\n",
    "house_with_moreOne_bedrooms = dataFrame.query('bedrooms > 1').__len__()"
   ]
  },
  {
   "cell_type": "markdown",
   "metadata": {},
   "source": [
    "#### 2.1.2 Plotando a quantidade de casas que possuem um e nenhum quarto:"
   ]
  },
  {
   "cell_type": "code",
   "execution_count": 12,
   "metadata": {},
   "outputs": [
    {
     "data": {
      "image/png": "[encoded data removed]",
      "text/plain": [
       "<Figure size 432x288 with 1 Axes>"
      ]
     },
     "metadata": {
      "needs_background": "light"
     },
     "output_type": "display_data"
    }
   ],
   "source": [
    "quartos = ['Nenhum quarto', 'Um quarto', 'Mais de um quarto']\n",
    "casas = [house_with_none_bedrooms, house_with_one_bedrooms, house_with_moreOne_bedrooms]\n",
    "\n",
    "x = np.arange(len(quartos))\n",
    "\n",
    "fig, ax = plt.subplots()\n",
    "\n",
    "rect = ax.bar(x, casas, width=0.5, label=\"Quantidade de Casas\")\n",
    "\n",
    "ax.set_ylabel(\"Número de casas\")\n",
    "ax.set_xlabel(\"Número de quartos\")\n",
    "ax.set_title(\"Número de Quartos x Número de Casas\")\n",
    "ax.set_xticks(x, quartos)\n",
    "ax.legend()\n",
    "\n",
    "ax.bar_label(rect, padding=0.1)\n",
    "fig.tight_layout()\n",
    "plt.show()"
   ]
  },
  {
   "cell_type": "markdown",
   "metadata": {},
   "source": [
    "### 2.2 **Quantas casas tem um ou mais de um andar?**"
   ]
  },
  {
   "cell_type": "markdown",
   "metadata": {},
   "source": [
    "#### 2.2.1 Filtrando as casas com mais de um andar e nenhum andar:"
   ]
  },
  {
   "cell_type": "code",
   "execution_count": 13,
   "metadata": {},
   "outputs": [],
   "source": [
    "house_with_moreOne_floors = dataFrame.query('floors > 1').__len__()\n",
    "house_with_one_bedrooms = dataFrame.query('floors == 1').__len__()"
   ]
  },
  {
   "cell_type": "markdown",
   "metadata": {},
   "source": [
    "#### 2.2.2 Plotando a quantidade de casas que possuem mais de um andar e exatamente um andar:"
   ]
  },
  {
   "cell_type": "code",
   "execution_count": 14,
   "metadata": {},
   "outputs": [
    {
     "data": {
      "image/png": "[encoded data removed]",
      "text/plain": [
       "<Figure size 432x288 with 1 Axes>"
      ]
     },
     "metadata": {
      "needs_background": "light"
     },
     "output_type": "display_data"
    }
   ],
   "source": [
    "andares = ['Um andar', 'Mais de um andar']\n",
    "casas = [house_with_one_bedrooms, house_with_moreOne_floors]\n",
    "\n",
    "x = np.arange(len(andares))\n",
    "\n",
    "fig, ax = plt.subplots()\n",
    "\n",
    "rect = ax.bar(x, casas, width=0.6)\n",
    "\n",
    "ax.set_ylabel(\"Número de casas\")\n",
    "ax.set_xlabel(\"Número de andares\")\n",
    "ax.set_title(\"Número de Andares x Número de Casas\")\n",
    "ax.set_xticks(x, andares)\n",
    "\n",
    "ax.bar_label(rect, padding=0.1)\n",
    "fig.tight_layout()\n",
    "plt.show()"
   ]
  },
  {
   "cell_type": "markdown",
   "metadata": {},
   "source": [
    "### 2.3 **Quantas casas estão em perfeitas ou em péssimas condições?**"
   ]
  },
  {
   "cell_type": "markdown",
   "metadata": {},
   "source": [
    "#### 2.3.1 Filtrando as casas que estão em perfeitas e em más condições:"
   ]
  },
  {
   "cell_type": "code",
   "execution_count": 15,
   "metadata": {},
   "outputs": [],
   "source": [
    "house_bad_condition = dataFrame.query('condition == 1').__len__()\n",
    "house_good_condition = dataFrame.query('condition == 5').__len__()"
   ]
  },
  {
   "cell_type": "markdown",
   "metadata": {},
   "source": [
    "#### 2.3.2 Plotando a quantidade de casas em perfeitas ou em más condições:"
   ]
  },
  {
   "cell_type": "code",
   "execution_count": 16,
   "metadata": {},
   "outputs": [
    {
     "data": {
      "image/png": "[encoded data removed]",
      "text/plain": [
       "<Figure size 432x288 with 1 Axes>"
      ]
     },
     "metadata": {
      "needs_background": "light"
     },
     "output_type": "display_data"
    }
   ],
   "source": [
    "condição = ['Más condições', 'Perfeitas condições']\n",
    "casas = [house_bad_condition, house_good_condition]\n",
    "\n",
    "x = np.arange(len(condição))\n",
    "\n",
    "fig, ax = plt.subplots()\n",
    "\n",
    "rect = ax.bar(x, casas, width=0.7)\n",
    "\n",
    "ax.set_ylabel(\"Número de casas\")\n",
    "ax.set_xlabel(\"Condição da casa\")\n",
    "ax.set_title(\"Condição da Casa x Número de Casas\")\n",
    "ax.set_xticks(x, condição)\n",
    "\n",
    "ax.bar_label(rect, padding=0.1)\n",
    "fig.tight_layout()\n",
    "plt.show()"
   ]
  },
  {
   "cell_type": "markdown",
   "metadata": {},
   "source": [
    "### 2.4 **Quantos quartos, em média, as casas possuem?**"
   ]
  },
  {
   "cell_type": "markdown",
   "metadata": {},
   "source": [
    "#### 2.4.1 Calculando a média de quartos, de todas as casas:"
   ]
  },
  {
   "cell_type": "code",
   "execution_count": 17,
   "metadata": {},
   "outputs": [
    {
     "name": "stdout",
     "output_type": "stream",
     "text": [
      "A média de quartos, que as casas possuem, é de aproximadamente 3.37!\n"
     ]
    }
   ],
   "source": [
    "mean_bedrooms = dataFrame['bedrooms'].mean()\n",
    "print('A média de quartos, que as casas possuem, é de aproximadamente {}!'.format(round(mean_bedrooms, 2)))"
   ]
  },
  {
   "cell_type": "markdown",
   "metadata": {},
   "source": [
    "### 2.5 **Qual o preço médio das casas?**"
   ]
  },
  {
   "cell_type": "markdown",
   "metadata": {},
   "source": [
    "#### 2.5.1 Calculando o preço médio das casas:"
   ]
  },
  {
   "cell_type": "code",
   "execution_count": 18,
   "metadata": {},
   "outputs": [
    {
     "name": "stdout",
     "output_type": "stream",
     "text": [
      "O preço médio das casas é de aproximadamente $540088.14 !\n"
     ]
    }
   ],
   "source": [
    "mean_price = dataFrame['price'].mean()\n",
    "print('O preço médio das casas é de aproximadamente ${} !'.format(round(mean_price, 2)))"
   ]
  },
  {
   "cell_type": "markdown",
   "metadata": {},
   "source": [
    "### 2.6 **Qual o desvio padrão do preço?**"
   ]
  },
  {
   "cell_type": "markdown",
   "metadata": {},
   "source": [
    "#### 2.6.1 Calculando o desvio padrão dos preços:"
   ]
  },
  {
   "cell_type": "code",
   "execution_count": 19,
   "metadata": {},
   "outputs": [
    {
     "name": "stdout",
     "output_type": "stream",
     "text": [
      "O desvio padrão dos preços é de $367127.2 !\n"
     ]
    }
   ],
   "source": [
    "std_price = dataFrame['price'].std()\n",
    "print('O desvio padrão dos preços é de ${} !'.format(round(std_price, 2)))"
   ]
  },
  {
   "cell_type": "markdown",
   "metadata": {},
   "source": [
    "### 2.7 **Quais são os 1Q e 3Q dos preços?**"
   ]
  },
  {
   "cell_type": "markdown",
   "metadata": {},
   "source": [
    "#### 2.7.1 Calculando o primero e terceiro quartil do preço:"
   ]
  },
  {
   "cell_type": "code",
   "execution_count": 20,
   "metadata": {},
   "outputs": [
    {
     "name": "stdout",
     "output_type": "stream",
     "text": [
      "O primeiro quartil, 1Q, do preço é de: $321950.0\n",
      "O terceiro quartil, 3Q, do preço é de: $645000.0\n"
     ]
    }
   ],
   "source": [
    "q1 = dataFrame['price'].quantile(0.25)\n",
    "q3 = dataFrame['price'].quantile(0.75)\n",
    "print('O primeiro quartil, 1Q, do preço é de: ${}'.format(q1))\n",
    "print('O terceiro quartil, 3Q, do preço é de: ${}'.format(q3))"
   ]
  },
  {
   "cell_type": "markdown",
   "metadata": {},
   "source": [
    "### 2.8 **Existem preços de casas que são outliers?**"
   ]
  },
  {
   "cell_type": "markdown",
   "metadata": {},
   "source": [
    "#### 2.8.1 Boxplot dos preços:"
   ]
  },
  {
   "cell_type": "code",
   "execution_count": 21,
   "metadata": {},
   "outputs": [
    {
     "data": {
      "image/png": "[encoded data removed]",
      "text/plain": [
       "<Figure size 432x288 with 1 Axes>"
      ]
     },
     "metadata": {
      "needs_background": "light"
     },
     "output_type": "display_data"
    }
   ],
   "source": [
    "boxplot = dataFrame['price']\n",
    "plt.boxplot(boxplot)\n",
    "plt.title(\"Boxplot dos preços das casas\")\n",
    "plt.show()"
   ]
  },
  {
   "cell_type": "markdown",
   "metadata": {},
   "source": [
    "##### A partir do gráfico acima, podemos verificar a variação dos preços das casas e afirmar que há preços que são outliers, nesse caso, que se distanciam dos demais preços!"
   ]
  },
  {
   "cell_type": "markdown",
   "metadata": {},
   "source": [
    "### 2.9 **Qual a relação entre o preço médio das casas e a quantidade de quartos?**"
   ]
  },
  {
   "cell_type": "markdown",
   "metadata": {},
   "source": [
    "#### 2.9.1 Agrupando a quantidade de quartos com o preço médio:"
   ]
  },
  {
   "cell_type": "code",
   "execution_count": 22,
   "metadata": {},
   "outputs": [
    {
     "data": {
      "text/html": [
       "<div>\n",
       "<style scoped>\n",
       "    .dataframe tbody tr th:only-of-type {\n",
       "        vertical-align: middle;\n",
       "    }\n",
       "\n",
       "    .dataframe tbody tr th {\n",
       "        vertical-align: top;\n",
       "    }\n",
       "\n",
       "    .dataframe thead th {\n",
       "        text-align: right;\n",
       "    }\n",
       "</style>\n",
       "<table border=\"1\" class=\"dataframe\">\n",
       "  <thead>\n",
       "    <tr style=\"text-align: right;\">\n",
       "      <th></th>\n",
       "      <th>bedrooms</th>\n",
       "      <th>price</th>\n",
       "    </tr>\n",
       "  </thead>\n",
       "  <tbody>\n",
       "    <tr>\n",
       "      <th>0</th>\n",
       "      <td>0</td>\n",
       "      <td>4.095038e+05</td>\n",
       "    </tr>\n",
       "    <tr>\n",
       "      <th>1</th>\n",
       "      <td>1</td>\n",
       "      <td>3.176429e+05</td>\n",
       "    </tr>\n",
       "    <tr>\n",
       "      <th>2</th>\n",
       "      <td>2</td>\n",
       "      <td>4.013727e+05</td>\n",
       "    </tr>\n",
       "    <tr>\n",
       "      <th>3</th>\n",
       "      <td>3</td>\n",
       "      <td>4.662321e+05</td>\n",
       "    </tr>\n",
       "    <tr>\n",
       "      <th>4</th>\n",
       "      <td>4</td>\n",
       "      <td>6.354195e+05</td>\n",
       "    </tr>\n",
       "    <tr>\n",
       "      <th>5</th>\n",
       "      <td>5</td>\n",
       "      <td>7.865998e+05</td>\n",
       "    </tr>\n",
       "    <tr>\n",
       "      <th>6</th>\n",
       "      <td>6</td>\n",
       "      <td>8.255206e+05</td>\n",
       "    </tr>\n",
       "    <tr>\n",
       "      <th>7</th>\n",
       "      <td>7</td>\n",
       "      <td>9.511847e+05</td>\n",
       "    </tr>\n",
       "    <tr>\n",
       "      <th>8</th>\n",
       "      <td>8</td>\n",
       "      <td>1.105077e+06</td>\n",
       "    </tr>\n",
       "    <tr>\n",
       "      <th>9</th>\n",
       "      <td>9</td>\n",
       "      <td>8.939998e+05</td>\n",
       "    </tr>\n",
       "    <tr>\n",
       "      <th>10</th>\n",
       "      <td>10</td>\n",
       "      <td>8.193333e+05</td>\n",
       "    </tr>\n",
       "    <tr>\n",
       "      <th>11</th>\n",
       "      <td>11</td>\n",
       "      <td>5.200000e+05</td>\n",
       "    </tr>\n",
       "    <tr>\n",
       "      <th>12</th>\n",
       "      <td>33</td>\n",
       "      <td>6.400000e+05</td>\n",
       "    </tr>\n",
       "  </tbody>\n",
       "</table>\n",
       "</div>"
      ],
      "text/plain": [
       "    bedrooms         price\n",
       "0          0  4.095038e+05\n",
       "1          1  3.176429e+05\n",
       "2          2  4.013727e+05\n",
       "3          3  4.662321e+05\n",
       "4          4  6.354195e+05\n",
       "5          5  7.865998e+05\n",
       "6          6  8.255206e+05\n",
       "7          7  9.511847e+05\n",
       "8          8  1.105077e+06\n",
       "9          9  8.939998e+05\n",
       "10        10  8.193333e+05\n",
       "11        11  5.200000e+05\n",
       "12        33  6.400000e+05"
      ]
     },
     "execution_count": 22,
     "metadata": {},
     "output_type": "execute_result"
    }
   ],
   "source": [
    "group_price_bedrooms = dataFrame[['price', 'bedrooms']].groupby('bedrooms').mean().reset_index()\n",
    "group_price_bedrooms"
   ]
  },
  {
   "cell_type": "markdown",
   "metadata": {},
   "source": [
    "#### 2.9.2 Plotando a relação entre o preço médio das casas com a quantidade de quartos:"
   ]
  },
  {
   "cell_type": "code",
   "execution_count": 23,
   "metadata": {},
   "outputs": [
    {
     "data": {
      "image/png": "[encoded data removed]",
      "text/plain": [
       "<Figure size 432x288 with 1 Axes>"
      ]
     },
     "metadata": {
      "needs_background": "light"
     },
     "output_type": "display_data"
    }
   ],
   "source": [
    "num_bedrooms = list(group_price_bedrooms['bedrooms'])\n",
    "num_mean_price = list(group_price_bedrooms['price'])\n",
    "\n",
    "x = np.arange(len(num_bedrooms))\n",
    "\n",
    "fig, ax = plt.subplots()\n",
    "\n",
    "rect = ax.bar(x, num_mean_price, width=0.7)\n",
    "\n",
    "ax.set_ylabel(\"Preço médio das casas\")\n",
    "ax.set_xlabel(\"Quantidade de quartos\")\n",
    "ax.set_title(\"Quantidade de quartos x Preço médio das casas\")\n",
    "ax.set_xticks(x, num_bedrooms)\n",
    "\n",
    "ax.bar_label(rect, padding=0.1)\n",
    "fig.tight_layout()\n",
    "plt.show()"
   ]
  },
  {
   "cell_type": "markdown",
   "metadata": {},
   "source": [
    "### 2.10 **Qual foi o crescimento do preço das casas ano após ano?**"
   ]
  },
  {
   "cell_type": "markdown",
   "metadata": {},
   "source": [
    "#### 2.10.1 Agrupando o preço das casas com o respectivo ano:"
   ]
  },
  {
   "cell_type": "code",
   "execution_count": 24,
   "metadata": {},
   "outputs": [
    {
     "data": {
      "text/html": [
       "<div>\n",
       "<style scoped>\n",
       "    .dataframe tbody tr th:only-of-type {\n",
       "        vertical-align: middle;\n",
       "    }\n",
       "\n",
       "    .dataframe tbody tr th {\n",
       "        vertical-align: top;\n",
       "    }\n",
       "\n",
       "    .dataframe thead th {\n",
       "        text-align: right;\n",
       "    }\n",
       "</style>\n",
       "<table border=\"1\" class=\"dataframe\">\n",
       "  <thead>\n",
       "    <tr style=\"text-align: right;\">\n",
       "      <th></th>\n",
       "      <th>ano</th>\n",
       "      <th>price</th>\n",
       "    </tr>\n",
       "  </thead>\n",
       "  <tbody>\n",
       "    <tr>\n",
       "      <th>0</th>\n",
       "      <td>2014</td>\n",
       "      <td>7.889842e+09</td>\n",
       "    </tr>\n",
       "    <tr>\n",
       "      <th>1</th>\n",
       "      <td>2015</td>\n",
       "      <td>3.783083e+09</td>\n",
       "    </tr>\n",
       "  </tbody>\n",
       "</table>\n",
       "</div>"
      ],
      "text/plain": [
       "    ano         price\n",
       "0  2014  7.889842e+09\n",
       "1  2015  3.783083e+09"
      ]
     },
     "execution_count": 24,
     "metadata": {},
     "output_type": "execute_result"
    }
   ],
   "source": [
    "group_price_year = dataFrame[['price', 'ano']].groupby('ano').sum().reset_index()\n",
    "group_price_year['ano'] = group_price_year['ano'].astype(str)\n",
    "group_price_year"
   ]
  },
  {
   "cell_type": "markdown",
   "metadata": {},
   "source": [
    "#### 2.10.2 Plotando o crescimento do preço das casas ano após ano:"
   ]
  },
  {
   "cell_type": "code",
   "execution_count": 25,
   "metadata": {},
   "outputs": [
    {
     "data": {
      "image/png": "[encoded data removed]",
      "text/plain": [
       "<Figure size 432x288 with 1 Axes>"
      ]
     },
     "metadata": {
      "needs_background": "light"
     },
     "output_type": "display_data"
    }
   ],
   "source": [
    "sns.barplot(x=group_price_year['ano'], y=group_price_year['price']);"
   ]
  },
  {
   "cell_type": "markdown",
   "metadata": {},
   "source": [
    "### 2.11 **Qual foi o crescimento do preço das casas mês após mês?**"
   ]
  },
  {
   "cell_type": "markdown",
   "metadata": {},
   "source": [
    "#### 2.11.1 Agrupando o preço das casas com o seu respectivo mês:"
   ]
  },
  {
   "cell_type": "code",
   "execution_count": 26,
   "metadata": {},
   "outputs": [
    {
     "data": {
      "text/html": [
       "<div>\n",
       "<style scoped>\n",
       "    .dataframe tbody tr th:only-of-type {\n",
       "        vertical-align: middle;\n",
       "    }\n",
       "\n",
       "    .dataframe tbody tr th {\n",
       "        vertical-align: top;\n",
       "    }\n",
       "\n",
       "    .dataframe thead th {\n",
       "        text-align: right;\n",
       "    }\n",
       "</style>\n",
       "<table border=\"1\" class=\"dataframe\">\n",
       "  <thead>\n",
       "    <tr style=\"text-align: right;\">\n",
       "      <th></th>\n",
       "      <th>mes</th>\n",
       "      <th>price</th>\n",
       "    </tr>\n",
       "  </thead>\n",
       "  <tbody>\n",
       "    <tr>\n",
       "      <th>0</th>\n",
       "      <td>1</td>\n",
       "      <td>5.143017e+08</td>\n",
       "    </tr>\n",
       "    <tr>\n",
       "      <th>1</th>\n",
       "      <td>2</td>\n",
       "      <td>6.348142e+08</td>\n",
       "    </tr>\n",
       "    <tr>\n",
       "      <th>2</th>\n",
       "      <td>3</td>\n",
       "      <td>1.019957e+09</td>\n",
       "    </tr>\n",
       "    <tr>\n",
       "      <th>3</th>\n",
       "      <td>4</td>\n",
       "      <td>1.253460e+09</td>\n",
       "    </tr>\n",
       "    <tr>\n",
       "      <th>4</th>\n",
       "      <td>5</td>\n",
       "      <td>1.329556e+09</td>\n",
       "    </tr>\n",
       "    <tr>\n",
       "      <th>5</th>\n",
       "      <td>6</td>\n",
       "      <td>1.216445e+09</td>\n",
       "    </tr>\n",
       "    <tr>\n",
       "      <th>6</th>\n",
       "      <td>7</td>\n",
       "      <td>1.204528e+09</td>\n",
       "    </tr>\n",
       "    <tr>\n",
       "      <th>7</th>\n",
       "      <td>8</td>\n",
       "      <td>1.040704e+09</td>\n",
       "    </tr>\n",
       "    <tr>\n",
       "      <th>8</th>\n",
       "      <td>9</td>\n",
       "      <td>9.388963e+08</td>\n",
       "    </tr>\n",
       "    <tr>\n",
       "      <th>9</th>\n",
       "      <td>10</td>\n",
       "      <td>1.012293e+09</td>\n",
       "    </tr>\n",
       "    <tr>\n",
       "      <th>10</th>\n",
       "      <td>11</td>\n",
       "      <td>7.364870e+08</td>\n",
       "    </tr>\n",
       "    <tr>\n",
       "      <th>11</th>\n",
       "      <td>12</td>\n",
       "      <td>7.714834e+08</td>\n",
       "    </tr>\n",
       "  </tbody>\n",
       "</table>\n",
       "</div>"
      ],
      "text/plain": [
       "   mes         price\n",
       "0    1  5.143017e+08\n",
       "1    2  6.348142e+08\n",
       "2    3  1.019957e+09\n",
       "3    4  1.253460e+09\n",
       "4    5  1.329556e+09\n",
       "5    6  1.216445e+09\n",
       "6    7  1.204528e+09\n",
       "7    8  1.040704e+09\n",
       "8    9  9.388963e+08\n",
       "9   10  1.012293e+09\n",
       "10  11  7.364870e+08\n",
       "11  12  7.714834e+08"
      ]
     },
     "execution_count": 26,
     "metadata": {},
     "output_type": "execute_result"
    }
   ],
   "source": [
    "group_price_mes = dataFrame[['price', 'mes']].groupby('mes').sum().reset_index()\n",
    "group_price_mes['mes'] = group_price_mes['mes'].astype(str)\n",
    "group_price_mes"
   ]
  },
  {
   "cell_type": "markdown",
   "metadata": {},
   "source": [
    "#### 2.11.2 Plotando o crescimento do preço das casas mês após mês:"
   ]
  },
  {
   "cell_type": "code",
   "execution_count": 27,
   "metadata": {},
   "outputs": [
    {
     "data": {
      "image/png": "[encoded data removed]",
      "text/plain": [
       "<Figure size 432x288 with 1 Axes>"
      ]
     },
     "metadata": {},
     "output_type": "display_data"
    }
   ],
   "source": [
    "sns.set_theme(style='ticks')\n",
    "sns.set_context('notebook')\n",
    "plot = sns.lineplot(data=group_price_mes, x='mes', y='price', markers=True, style=(1), legend=False, color='black')\n",
    "plot.set_xlabel(\"Mês\")\n",
    "plot.set_ylabel(\"Preço das casas\");"
   ]
  }
 ],
 "metadata": {
  "kernelspec": {
   "display_name": "Python 3.10.4 64-bit",
   "language": "python",
   "name": "python3"
  },
  "language_info": {
   "codemirror_mode": {
    "name": "ipython",
    "version": 3
   },
   "file_extension": ".py",
   "mimetype": "text/x-python",
   "name": "python",
   "nbconvert_exporter": "python",
   "pygments_lexer": "ipython3",
   "version": "3.10.4"
  },
  "orig_nbformat": 4,
  "vscode": {
   "interpreter": {
    "hash": "cffef59f0bab976b1e8983a0cec1228b8be33a241079789d4b0646b74d1de326"
   }
  }
 },
 "nbformat": 4,
 "nbformat_minor": 2
}
